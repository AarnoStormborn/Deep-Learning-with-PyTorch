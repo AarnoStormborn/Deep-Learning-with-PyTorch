{
  "nbformat": 4,
  "nbformat_minor": 0,
  "metadata": {
    "colab": {
      "provenance": [],
      "authorship_tag": "ABX9TyMIzc9HgsOWTIgyG4v5h3U+",
      "include_colab_link": true
    },
    "kernelspec": {
      "name": "python3",
      "display_name": "Python 3"
    },
    "language_info": {
      "name": "python"
    }
  },
  "cells": [
    {
      "cell_type": "markdown",
      "metadata": {
        "id": "view-in-github",
        "colab_type": "text"
      },
      "source": [
        "<a href=\"https://colab.research.google.com/github/AarnoStormborn/Deep-Learning-with-PyTorch/blob/main/01_pytorch_workflow.ipynb\" target=\"_parent\"><img src=\"https://colab.research.google.com/assets/colab-badge.svg\" alt=\"Open In Colab\"/></a>"
      ]
    },
    {
      "cell_type": "markdown",
      "source": [
        "# PyTorch Workflows"
      ],
      "metadata": {
        "id": "o00fUWffJpVq"
      }
    },
    {
      "cell_type": "code",
      "execution_count": 33,
      "metadata": {
        "id": "1dsxk52L8Bp8",
        "colab": {
          "base_uri": "https://localhost:8080/"
        },
        "outputId": "fb770d60-ab1f-461f-c9e0-a6b87b95c858"
      },
      "outputs": [
        {
          "output_type": "stream",
          "name": "stdout",
          "text": [
            "2.1.0+cu118\n"
          ]
        }
      ],
      "source": [
        "import torch\n",
        "print(torch.__version__)"
      ]
    },
    {
      "cell_type": "code",
      "source": [
        "torch.rand(2,2)"
      ],
      "metadata": {
        "colab": {
          "base_uri": "https://localhost:8080/"
        },
        "id": "EhhWHGKUH5P1",
        "outputId": "25d2ba6f-bfb9-4f77-e02b-4f31a9fbf568"
      },
      "execution_count": 34,
      "outputs": [
        {
          "output_type": "execute_result",
          "data": {
            "text/plain": [
              "tensor([[0.8823, 0.9150],\n",
              "        [0.3829, 0.9593]])"
            ]
          },
          "metadata": {},
          "execution_count": 34
        }
      ]
    },
    {
      "cell_type": "markdown",
      "source": [
        "# Workflow\n",
        "\n",
        "The steps involved in this workflow:\n",
        "1. Data Preparation\n",
        "2. Build Model\n",
        "3. Fitting Model to Data\n",
        "4. Making Predictions & Evaluation\n",
        "5. Saving and Loading model"
      ],
      "metadata": {
        "id": "L3GuVbV8Jfes"
      }
    },
    {
      "cell_type": "code",
      "source": [
        "import torch\n",
        "from torch import nn\n",
        "import matplotlib.pyplot as plt"
      ],
      "metadata": {
        "id": "lTAMNHIbMLhp"
      },
      "execution_count": 35,
      "outputs": []
    },
    {
      "cell_type": "markdown",
      "source": [
        "## Data Preparation"
      ],
      "metadata": {
        "id": "X49Vahb_MJDz"
      }
    },
    {
      "cell_type": "code",
      "source": [
        "# Create known parameters\n",
        "weight = 0.7\n",
        "bias = 0.3\n",
        "\n",
        "# Create data\n",
        "start = 0\n",
        "end = 1\n",
        "step = 0.02\n",
        "X = torch.arange(start, end, step).unsqueeze(dim=1)\n",
        "y = weight * X + bias"
      ],
      "metadata": {
        "id": "0ZPdXHc0K72s"
      },
      "execution_count": 36,
      "outputs": []
    },
    {
      "cell_type": "markdown",
      "source": [
        "### Train Test Split"
      ],
      "metadata": {
        "id": "svqV71bhMSXK"
      }
    },
    {
      "cell_type": "code",
      "source": [
        "# Splitting\n",
        "split = 0.8\n",
        "\n",
        "train_split = int(split * len(X))\n",
        "X_train, y_train = X[:train_split], y[:train_split]\n",
        "X_test, y_test = X[train_split:], y[train_split:]\n",
        "\n",
        "len(X_train), len(X_test), len(y_train), len(y_test)"
      ],
      "metadata": {
        "colab": {
          "base_uri": "https://localhost:8080/"
        },
        "id": "rj1TiCpKMUNa",
        "outputId": "6c7571f7-7ebe-423c-dc30-97fea1da3167"
      },
      "execution_count": 37,
      "outputs": [
        {
          "output_type": "execute_result",
          "data": {
            "text/plain": [
              "(40, 10, 40, 10)"
            ]
          },
          "metadata": {},
          "execution_count": 37
        }
      ]
    },
    {
      "cell_type": "markdown",
      "source": [
        "### Visualize data"
      ],
      "metadata": {
        "id": "I55OzXuaNZkD"
      }
    },
    {
      "cell_type": "code",
      "source": [
        "def plot_predictions(train_data=X_train,\n",
        "                     train_labels=y_train,\n",
        "                     test_data=X_test,\n",
        "                     test_labels=y_test,\n",
        "                     predictions=None):\n",
        "\n",
        "    plt.figure(figsize=(10,7))\n",
        "\n",
        "    plt.scatter(train_data, train_labels, c=\"b\", s=4, label=\"Train Data\")\n",
        "    plt.scatter(test_data, test_labels, c=\"g\", s=4, label=\"Test Data\")\n",
        "\n",
        "    if predictions is not None:\n",
        "        plt.scatter(test_data, predictions, c=\"r\", s=4, label=\"Predictions\")\n",
        "\n",
        "    plt.legend(prop={\"size\":14});"
      ],
      "metadata": {
        "id": "kqVhgK6XNMLx"
      },
      "execution_count": 38,
      "outputs": []
    },
    {
      "cell_type": "code",
      "source": [
        "plot_predictions()"
      ],
      "metadata": {
        "colab": {
          "base_uri": "https://localhost:8080/",
          "height": 599
        },
        "id": "5hBlKFVaOtdb",
        "outputId": "fd111606-90af-4a9a-a51e-e384d0da5e22"
      },
      "execution_count": 39,
      "outputs": [
        {
          "output_type": "display_data",
          "data": {
            "text/plain": [
              "<Figure size 1000x700 with 1 Axes>"
            ],
            "image/png": "[encoded data removed]"
          },
          "metadata": {}
        }
      ]
    },
    {
      "cell_type": "markdown",
      "source": [
        "## Building first model with PyTorch!!!"
      ],
      "metadata": {
        "id": "PZiCfgwROvVH"
      }
    },
    {
      "cell_type": "code",
      "source": [
        "# Create Linear Regression model class\n",
        "\n",
        "class LinearRegressionModel(nn.Module):\n",
        "\n",
        "    def __init__(self):\n",
        "        super().__init__()\n",
        "        self.weights = nn.Parameter(torch.randn(1, requires_grad=True, dtype=torch.float))\n",
        "        self.bias = nn.Parameter(torch.randn(1, requires_grad=True, dtype=torch.float))\n",
        "\n",
        "    def forward(self, x: torch.Tensor) -> torch.Tensor:\n",
        "        return self.weights * x + self.bias"
      ],
      "metadata": {
        "id": "x5ts5bXCPBJN"
      },
      "execution_count": 40,
      "outputs": []
    },
    {
      "cell_type": "markdown",
      "source": [
        "### PyTorch model building essentials\n",
        "\n",
        "1. torch.nn -> Contains all building blocks for neural networks\n",
        "2. torch.nn.Parameter -> defining model parameters\n",
        "3. torch.nn.Module -> Base class of all neural network modules\n",
        "4. torch.optim -> optimizers in PyTorch\n",
        "5. forward() -> Always need to override this method, defines the computation on each step"
      ],
      "metadata": {
        "id": "Qnd0Uwu5SkYi"
      }
    },
    {
      "cell_type": "code",
      "source": [
        "# Create random seed\n",
        "torch.manual_seed(42)\n",
        "\n",
        "# Create instance of model\n",
        "model_0 = LinearRegressionModel()\n",
        "model_0"
      ],
      "metadata": {
        "colab": {
          "base_uri": "https://localhost:8080/"
        },
        "id": "HE1zGoBnSkVv",
        "outputId": "51f824b9-7dc9-45a3-e75d-162eb7785bf1"
      },
      "execution_count": 41,
      "outputs": [
        {
          "output_type": "execute_result",
          "data": {
            "text/plain": [
              "LinearRegressionModel()"
            ]
          },
          "metadata": {},
          "execution_count": 41
        }
      ]
    },
    {
      "cell_type": "code",
      "source": [
        "# Check Parameters\n",
        "list(model_0.parameters())"
      ],
      "metadata": {
        "colab": {
          "base_uri": "https://localhost:8080/"
        },
        "id": "x0Euf0osSkTG",
        "outputId": "3e2bbe2a-19ef-4895-baac-5723c81e0172"
      },
      "execution_count": 42,
      "outputs": [
        {
          "output_type": "execute_result",
          "data": {
            "text/plain": [
              "[Parameter containing:\n",
              " tensor([0.3367], requires_grad=True),\n",
              " Parameter containing:\n",
              " tensor([0.1288], requires_grad=True)]"
            ]
          },
          "metadata": {},
          "execution_count": 42
        }
      ]
    },
    {
      "cell_type": "code",
      "source": [
        "# List named parameters\n",
        "model_0.state_dict()"
      ],
      "metadata": {
        "colab": {
          "base_uri": "https://localhost:8080/"
        },
        "id": "VUcmurw5SkQD",
        "outputId": "4bf218a4-ba6c-4cb1-b38b-99a105e0fbe0"
      },
      "execution_count": 43,
      "outputs": [
        {
          "output_type": "execute_result",
          "data": {
            "text/plain": [
              "OrderedDict([('weights', tensor([0.3367])), ('bias', tensor([0.1288]))])"
            ]
          },
          "metadata": {},
          "execution_count": 43
        }
      ]
    },
    {
      "cell_type": "markdown",
      "source": [
        "### Making predictions using `torch.inference_mode()`"
      ],
      "metadata": {
        "id": "5r6DotEmSkNE"
      }
    },
    {
      "cell_type": "code",
      "source": [
        "# Inference mode - Relatively newer method\n",
        "with torch.inference_mode():\n",
        "    y_preds = model_0(X_test)\n",
        "\n",
        "# Older method\n",
        "# with torch.no_grad():\n",
        "#     y_preds = model_0(X_test)"
      ],
      "metadata": {
        "id": "lID1QpULSkJ8"
      },
      "execution_count": 44,
      "outputs": []
    },
    {
      "cell_type": "code",
      "source": [
        "y_preds"
      ],
      "metadata": {
        "colab": {
          "base_uri": "https://localhost:8080/"
        },
        "id": "Eg2uZ3SmWbzd",
        "outputId": "68860015-e78b-47c1-e7b6-a1c9fbb73c5e"
      },
      "execution_count": 45,
      "outputs": [
        {
          "output_type": "execute_result",
          "data": {
            "text/plain": [
              "tensor([[0.3982],\n",
              "        [0.4049],\n",
              "        [0.4116],\n",
              "        [0.4184],\n",
              "        [0.4251],\n",
              "        [0.4318],\n",
              "        [0.4386],\n",
              "        [0.4453],\n",
              "        [0.4520],\n",
              "        [0.4588]])"
            ]
          },
          "metadata": {},
          "execution_count": 45
        }
      ]
    },
    {
      "cell_type": "code",
      "source": [
        "plot_predictions(predictions=y_preds);"
      ],
      "metadata": {
        "colab": {
          "base_uri": "https://localhost:8080/",
          "height": 599
        },
        "id": "E-OP9VsYSkHI",
        "outputId": "b9271aec-da7b-430e-dcd6-cd0fafda79ac"
      },
      "execution_count": 46,
      "outputs": [
        {
          "output_type": "display_data",
          "data": {
            "text/plain": [
              "<Figure size 1000x700 with 1 Axes>"
            ],
            "image/png": "[encoded data removed]"
          },
          "metadata": {}
        }
      ]
    },
    {
      "cell_type": "markdown",
      "source": [
        "## Training a Model\n",
        "\n",
        "* Loss Function\n",
        "* Optimizers"
      ],
      "metadata": {
        "id": "FzZReYWvSkD_"
      }
    },
    {
      "cell_type": "code",
      "source": [
        "# Setup loss function\n",
        "loss_fn = nn.L1Loss()\n",
        "loss_fn"
      ],
      "metadata": {
        "id": "cJjIJak2SkBE",
        "colab": {
          "base_uri": "https://localhost:8080/"
        },
        "outputId": "17fc14de-239e-4ded-f8cc-3ca793d36196"
      },
      "execution_count": 47,
      "outputs": [
        {
          "output_type": "execute_result",
          "data": {
            "text/plain": [
              "L1Loss()"
            ]
          },
          "metadata": {},
          "execution_count": 47
        }
      ]
    },
    {
      "cell_type": "code",
      "source": [
        "# Setup optimizer\n",
        "optimizer = torch.optim.SGD(model_0.parameters(), lr=0.01)\n",
        "optimizer"
      ],
      "metadata": {
        "id": "n9qjXM-HSj-B",
        "colab": {
          "base_uri": "https://localhost:8080/"
        },
        "outputId": "51a7cf41-facc-4fb4-dc77-7ea17b9bfbf9"
      },
      "execution_count": 48,
      "outputs": [
        {
          "output_type": "execute_result",
          "data": {
            "text/plain": [
              "SGD (\n",
              "Parameter Group 0\n",
              "    dampening: 0\n",
              "    differentiable: False\n",
              "    foreach: None\n",
              "    lr: 0.01\n",
              "    maximize: False\n",
              "    momentum: 0\n",
              "    nesterov: False\n",
              "    weight_decay: 0\n",
              ")"
            ]
          },
          "metadata": {},
          "execution_count": 48
        }
      ]
    },
    {
      "cell_type": "markdown",
      "source": [
        "### Building a Training & Testing loop\n",
        "\n",
        "1. Loop through data\n",
        "2. Foward pass\n",
        "3. Calculate loss\n",
        "4. Optimizer zero grad\n",
        "5. Loss Backward\n",
        "6. Optimizer step\n"
      ],
      "metadata": {
        "id": "XdltTWThSj7H"
      }
    },
    {
      "cell_type": "code",
      "source": [
        "torch.manual_seed(42)\n",
        "\n",
        "epochs = 100\n",
        "\n",
        "# Loop through the training data\n",
        "for epoch in range(epochs):\n",
        "\n",
        "    # Set the model in training mode\n",
        "    model_0.train()\n",
        "\n",
        "    # Forward pass\n",
        "    y_pred = model_0(X_train)\n",
        "\n",
        "    # Calculate loss\n",
        "    loss = loss_fn(y_pred, y_train)\n",
        "\n",
        "    # Optimizer zero grad\n",
        "    optimizer.zero_grad()\n",
        "\n",
        "    # Backward pass\n",
        "    loss.backward()\n",
        "\n",
        "    # Optimizer step\n",
        "    optimizer.step()\n",
        "\n",
        "model_0.state_dict()"
      ],
      "metadata": {
        "id": "cuW20f1HSizV",
        "colab": {
          "base_uri": "https://localhost:8080/"
        },
        "outputId": "5a31b429-4b16-4108-c306-763dad15b8ae"
      },
      "execution_count": 49,
      "outputs": [
        {
          "output_type": "execute_result",
          "data": {
            "text/plain": [
              "OrderedDict([('weights', tensor([0.5784])), ('bias', tensor([0.3513]))])"
            ]
          },
          "metadata": {},
          "execution_count": 49
        }
      ]
    },
    {
      "cell_type": "code",
      "source": [
        "# model_0.state_dict()"
      ],
      "metadata": {
        "id": "S4OALnmZ4shZ"
      },
      "execution_count": 50,
      "outputs": []
    },
    {
      "cell_type": "code",
      "source": [
        "weight, bias"
      ],
      "metadata": {
        "colab": {
          "base_uri": "https://localhost:8080/"
        },
        "id": "0_VnaZu-4uUG",
        "outputId": "2ecbbbc5-6bbe-4f96-d0c5-1cf61dbf7ff0"
      },
      "execution_count": 51,
      "outputs": [
        {
          "output_type": "execute_result",
          "data": {
            "text/plain": [
              "(0.7, 0.3)"
            ]
          },
          "metadata": {},
          "execution_count": 51
        }
      ]
    },
    {
      "cell_type": "code",
      "source": [
        "with torch.inference_mode():\n",
        "    y_preds = model_0(X_test)"
      ],
      "metadata": {
        "id": "rhmbbCEN4053"
      },
      "execution_count": 52,
      "outputs": []
    },
    {
      "cell_type": "code",
      "source": [
        "plot_predictions(predictions=y_preds)"
      ],
      "metadata": {
        "colab": {
          "base_uri": "https://localhost:8080/",
          "height": 599
        },
        "id": "pFH1_nFE5iNU",
        "outputId": "0349ea28-34ca-4302-f718-2563f93e0c69"
      },
      "execution_count": 53,
      "outputs": [
        {
          "output_type": "display_data",
          "data": {
            "text/plain": [
              "<Figure size 1000x700 with 1 Axes>"
            ],
            "image/png": "[encoded data removed]"
          },
          "metadata": {}
        }
      ]
    },
    {
      "cell_type": "markdown",
      "source": [
        "### Training & Testing Loop"
      ],
      "metadata": {
        "id": "zHuIiSgn5lA_"
      }
    },
    {
      "cell_type": "code",
      "source": [
        "torch.manual_seed(42)\n",
        "\n",
        "epochs = 200\n",
        "\n",
        "# track model progress\n",
        "epoch_count=[]\n",
        "loss_vals=[]\n",
        "test_loss_vals=[]\n",
        "\n",
        "# Loop through the training data\n",
        "for epoch in range(epochs):\n",
        "\n",
        "    # Set the model in training mode\n",
        "    model_0.train()\n",
        "\n",
        "    # Forward pass\n",
        "    y_pred = model_0(X_train)\n",
        "\n",
        "    # Calculate loss\n",
        "    loss = loss_fn(y_pred, y_train)\n",
        "\n",
        "    # Optimizer zero grad\n",
        "    optimizer.zero_grad()\n",
        "\n",
        "    # Backward pass\n",
        "    loss.backward()\n",
        "\n",
        "    # Optimizer step\n",
        "    optimizer.step()\n",
        "\n",
        "    # Testing\n",
        "    model_0.eval() # Set the model in testing mode\n",
        "    with torch.inference_mode():\n",
        "        # Forward pass\n",
        "        test_pred = model_0(X_test)\n",
        "\n",
        "        # Loss on test set\n",
        "        test_loss = loss_fn(test_pred, y_test)\n",
        "\n",
        "    if epoch % 10 == 0:\n",
        "        epoch_count.append(epoch)\n",
        "        loss_vals.append(loss)\n",
        "        test_loss_vals.append(test_loss)\n",
        "        print(f\"Epoch: {epoch}  |  Train Loss: {loss}  |  Test loss: {test_loss}\")\n",
        "        print(model_0.state_dict())\n",
        "        print(\"=\"*50)"
      ],
      "metadata": {
        "colab": {
          "base_uri": "https://localhost:8080/"
        },
        "id": "p1_vSJJc6Nph",
        "outputId": "f66084fa-86bf-4c57-93df-7d3f895761fb"
      },
      "execution_count": 54,
      "outputs": [
        {
          "output_type": "stream",
          "name": "stdout",
          "text": [
            "Epoch: 0  |  Train Loss: 0.024458957836031914  |  Test loss: 0.05646304413676262\n",
            "OrderedDict([('weights', tensor([0.5800])), ('bias', tensor([0.3503]))])\n",
            "==================================================\n",
            "Epoch: 10  |  Train Loss: 0.021020207554101944  |  Test loss: 0.04819049686193466\n",
            "OrderedDict([('weights', tensor([0.5972])), ('bias', tensor([0.3433]))])\n",
            "==================================================\n",
            "Epoch: 20  |  Train Loss: 0.01758546568453312  |  Test loss: 0.04060482233762741\n",
            "OrderedDict([('weights', tensor([0.6141])), ('bias', tensor([0.3358]))])\n",
            "==================================================\n",
            "Epoch: 30  |  Train Loss: 0.014155393466353416  |  Test loss: 0.03233227878808975\n",
            "OrderedDict([('weights', tensor([0.6313])), ('bias', tensor([0.3288]))])\n",
            "==================================================\n",
            "Epoch: 40  |  Train Loss: 0.010716589167714119  |  Test loss: 0.024059748277068138\n",
            "OrderedDict([('weights', tensor([0.6485])), ('bias', tensor([0.3218]))])\n",
            "==================================================\n",
            "Epoch: 50  |  Train Loss: 0.0072835334576666355  |  Test loss: 0.016474086791276932\n",
            "OrderedDict([('weights', tensor([0.6654])), ('bias', tensor([0.3143]))])\n",
            "==================================================\n",
            "Epoch: 60  |  Train Loss: 0.0038517764769494534  |  Test loss: 0.008201557211577892\n",
            "OrderedDict([('weights', tensor([0.6826])), ('bias', tensor([0.3073]))])\n",
            "==================================================\n",
            "Epoch: 70  |  Train Loss: 0.008932482451200485  |  Test loss: 0.005023092031478882\n",
            "OrderedDict([('weights', tensor([0.6951])), ('bias', tensor([0.2993]))])\n",
            "==================================================\n",
            "Epoch: 80  |  Train Loss: 0.008932482451200485  |  Test loss: 0.005023092031478882\n",
            "OrderedDict([('weights', tensor([0.6951])), ('bias', tensor([0.2993]))])\n",
            "==================================================\n",
            "Epoch: 90  |  Train Loss: 0.008932482451200485  |  Test loss: 0.005023092031478882\n",
            "OrderedDict([('weights', tensor([0.6951])), ('bias', tensor([0.2993]))])\n",
            "==================================================\n",
            "Epoch: 100  |  Train Loss: 0.008932482451200485  |  Test loss: 0.005023092031478882\n",
            "OrderedDict([('weights', tensor([0.6951])), ('bias', tensor([0.2993]))])\n",
            "==================================================\n",
            "Epoch: 110  |  Train Loss: 0.008932482451200485  |  Test loss: 0.005023092031478882\n",
            "OrderedDict([('weights', tensor([0.6951])), ('bias', tensor([0.2993]))])\n",
            "==================================================\n",
            "Epoch: 120  |  Train Loss: 0.008932482451200485  |  Test loss: 0.005023092031478882\n",
            "OrderedDict([('weights', tensor([0.6951])), ('bias', tensor([0.2993]))])\n",
            "==================================================\n",
            "Epoch: 130  |  Train Loss: 0.008932482451200485  |  Test loss: 0.005023092031478882\n",
            "OrderedDict([('weights', tensor([0.6951])), ('bias', tensor([0.2993]))])\n",
            "==================================================\n",
            "Epoch: 140  |  Train Loss: 0.008932482451200485  |  Test loss: 0.005023092031478882\n",
            "OrderedDict([('weights', tensor([0.6951])), ('bias', tensor([0.2993]))])\n",
            "==================================================\n",
            "Epoch: 150  |  Train Loss: 0.008932482451200485  |  Test loss: 0.005023092031478882\n",
            "OrderedDict([('weights', tensor([0.6951])), ('bias', tensor([0.2993]))])\n",
            "==================================================\n",
            "Epoch: 160  |  Train Loss: 0.008932482451200485  |  Test loss: 0.005023092031478882\n",
            "OrderedDict([('weights', tensor([0.6951])), ('bias', tensor([0.2993]))])\n",
            "==================================================\n",
            "Epoch: 170  |  Train Loss: 0.008932482451200485  |  Test loss: 0.005023092031478882\n",
            "OrderedDict([('weights', tensor([0.6951])), ('bias', tensor([0.2993]))])\n",
            "==================================================\n",
            "Epoch: 180  |  Train Loss: 0.008932482451200485  |  Test loss: 0.005023092031478882\n",
            "OrderedDict([('weights', tensor([0.6951])), ('bias', tensor([0.2993]))])\n",
            "==================================================\n",
            "Epoch: 190  |  Train Loss: 0.008932482451200485  |  Test loss: 0.005023092031478882\n",
            "OrderedDict([('weights', tensor([0.6951])), ('bias', tensor([0.2993]))])\n",
            "==================================================\n"
          ]
        }
      ]
    },
    {
      "cell_type": "code",
      "source": [
        "with torch.inference_mode():\n",
        "    preds = model_0(X_test)"
      ],
      "metadata": {
        "id": "kYrgpkbC7RI7"
      },
      "execution_count": 55,
      "outputs": []
    },
    {
      "cell_type": "code",
      "source": [
        "plot_predictions(predictions=preds)"
      ],
      "metadata": {
        "colab": {
          "base_uri": "https://localhost:8080/",
          "height": 599
        },
        "id": "8FpJTk0zRDFK",
        "outputId": "6a476318-3555-4944-e6fd-af9e4d77976a"
      },
      "execution_count": 56,
      "outputs": [
        {
          "output_type": "display_data",
          "data": {
            "text/plain": [
              "<Figure size 1000x700 with 1 Axes>"
            ],
            "image/png": "[encoded data removed]"
          },
          "metadata": {}
        }
      ]
    },
    {
      "cell_type": "markdown",
      "source": [
        "### Plot the model progress"
      ],
      "metadata": {
        "id": "nkRaMmicSTJk"
      }
    },
    {
      "cell_type": "code",
      "source": [
        "import numpy as np\n",
        "plt.plot(epoch_count, np.array(torch.tensor(loss_vals).numpy()), label=\"Train loss\")\n",
        "plt.plot(epoch_count, np.array(torch.tensor(test_loss_vals).numpy()), label=\"Test loss\")\n",
        "plt.title(\"Training Loss vs Testing Loss\")\n",
        "plt.xlabel(\"Epochs\")\n",
        "plt.ylabel(\"Loss\")\n",
        "plt.legend();"
      ],
      "metadata": {
        "colab": {
          "base_uri": "https://localhost:8080/",
          "height": 472
        },
        "id": "sKQ83sQ9SV83",
        "outputId": "75e973d2-faf1-4efc-9129-ca62133a07b6"
      },
      "execution_count": 59,
      "outputs": [
        {
          "output_type": "display_data",
          "data": {
            "text/plain": [
              "<Figure size 640x480 with 1 Axes>"
            ],
            "image/png": "[encoded data removed]"
          },
          "metadata": {}
        }
      ]
    },
    {
      "cell_type": "markdown",
      "source": [
        "## Saving & Loading PyTorch Model\n",
        "\n",
        "**Saving & Loading Entire Model**\n",
        "* `torch.save()` - Pickle format\n",
        "* `torch.load()` - Load saved Model (pickle)\n",
        "\n",
        "**Saving & Loading Model Parameters**\n",
        "* `torch.save(model.state_dict())` - Save the state dict of the model\n",
        "* `torch.nn.Module.load_state_dict()` - Load saved state dict (loading parameters of a model)"
      ],
      "metadata": {
        "id": "5lAzgSztSrGC"
      }
    },
    {
      "cell_type": "code",
      "source": [
        "# Saving the PyTorch model\n",
        "from pathlib import Path\n",
        "\n",
        "# Create model directory\n",
        "MODEL_PATH = Path(\"models\")\n",
        "MODEL_PATH.mkdir(parents=True, exist_ok=True)\n",
        "\n",
        "# Create model save path\n",
        "MODEL_NAME = \"01_pytorch_workflow_model.pt\"\n",
        "MODEL_SAVE_PATH = MODEL_PATH  / MODEL_NAME\n",
        "\n",
        "# Saving the Model State Dict\n",
        "torch.save(obj=model_0.state_dict(), f=MODEL_SAVE_PATH)\n",
        "print(\"Model Saved\")"
      ],
      "metadata": {
        "colab": {
          "base_uri": "https://localhost:8080/"
        },
        "id": "DQgq4oOtUULw",
        "outputId": "99f2e3e1-2378-4a7d-a207-7b65c2eaff16"
      },
      "execution_count": 62,
      "outputs": [
        {
          "output_type": "stream",
          "name": "stdout",
          "text": [
            "Model Saved\n"
          ]
        }
      ]
    },
    {
      "cell_type": "code",
      "source": [
        "# Loading the PyTorch model\n",
        "# Since 'state_dict' was saved, a new model needs to be instantiated\n",
        "\n",
        "# Create new instance of model\n",
        "loaded_model = LinearRegressionModel()\n",
        "\n",
        "print(f\"New model State Dict: {loaded_model.state_dict()}\")\n",
        "# Load saved state_dict\n",
        "loaded_model.load_state_dict(torch.load(f=MODEL_SAVE_PATH))\n",
        "print(f\"After loading Saved State Dict: {loaded_model.state_dict()}\")"
      ],
      "metadata": {
        "colab": {
          "base_uri": "https://localhost:8080/"
        },
        "id": "m2tIkCz8XLWl",
        "outputId": "1b17047d-35f9-4731-cb18-e145ee203806"
      },
      "execution_count": 63,
      "outputs": [
        {
          "output_type": "stream",
          "name": "stdout",
          "text": [
            "New model State Dict: OrderedDict([('weights', tensor([0.3367])), ('bias', tensor([0.1288]))])\n",
            "After loading Saved State Dict: OrderedDict([('weights', tensor([0.6990])), ('bias', tensor([0.3093]))])\n"
          ]
        }
      ]
    },
    {
      "cell_type": "code",
      "source": [
        "# Testing Loaded Model\n",
        "with torch.inference_mode():\n",
        "    preds = loaded_model(X_test)\n",
        "\n",
        "plot_predictions(predictions=preds)"
      ],
      "metadata": {
        "colab": {
          "base_uri": "https://localhost:8080/",
          "height": 599
        },
        "id": "InLwFZd6Y8V1",
        "outputId": "6af17ca3-4f47-40e1-e25e-ef16342ccecc"
      },
      "execution_count": 65,
      "outputs": [
        {
          "output_type": "display_data",
          "data": {
            "text/plain": [
              "<Figure size 1000x700 with 1 Axes>"
            ],
            "image/png": "[encoded data removed]"
          },
          "metadata": {}
        }
      ]
    },
    {
      "cell_type": "markdown",
      "source": [
        "## Practise - Creating a new model"
      ],
      "metadata": {
        "id": "IcpbJfvOZkgm"
      }
    },
    {
      "cell_type": "code",
      "source": [
        "import torch\n",
        "from torch import nn\n",
        "\n",
        "class LinearRegressionModelV2(nn.Module):\n",
        "    def __init__(self):\n",
        "        super().__init__()\n",
        "        # Use nn.Linear()\n",
        "        self.linear_layer = nn.Linear(in_features=1, out_features=1)\n",
        "\n",
        "    def forward(self, x: torch.Tensor) -> torch.Tensor:\n",
        "        return self.linear_layer(x)"
      ],
      "metadata": {
        "id": "4OhiWH4jcgSv"
      },
      "execution_count": 73,
      "outputs": []
    },
    {
      "cell_type": "code",
      "source": [
        "torch.manual_seed(42)\n",
        "\n",
        "model_1 = LinearRegressionModelV2()"
      ],
      "metadata": {
        "id": "8PoBc8Zeak8r"
      },
      "execution_count": 74,
      "outputs": []
    },
    {
      "cell_type": "code",
      "source": [
        "loss_fn = torch.nn.L1Loss()\n",
        "optimizer = torch.optim.Adam(model_1.parameters(), lr=0.01)"
      ],
      "metadata": {
        "id": "ILw2_VWKaysZ"
      },
      "execution_count": 75,
      "outputs": []
    },
    {
      "cell_type": "code",
      "source": [
        "torch.manual_seed(42)\n",
        "\n",
        "epochs=150\n",
        "\n",
        "epoch_count = []\n",
        "loss_vals = []\n",
        "test_loss_vals = []\n",
        "\n",
        "for epoch in range(1, epochs+1):\n",
        "    model_1.train()\n",
        "\n",
        "    y_preds = model_1(X_train)\n",
        "    loss = loss_fn(y_preds, y_train)\n",
        "    optimizer.zero_grad()\n",
        "    loss.backward()\n",
        "    optimizer.step()\n",
        "\n",
        "    with torch.inference_mode():\n",
        "        test_preds = model_1(X_test)\n",
        "        test_loss = loss_fn(test_preds, y_test)\n",
        "\n",
        "    if epoch % 10 == 0:\n",
        "        epoch_count.append(epoch)\n",
        "        loss_vals.append(loss)\n",
        "        test_loss_vals.append(test_loss)\n",
        "\n",
        "        print(f\"Epoch: {epoch} | Loss: {loss} | Test Loss: {test_loss}\")\n",
        "        print(f\"=\"*50)"
      ],
      "metadata": {
        "colab": {
          "base_uri": "https://localhost:8080/"
        },
        "id": "IFxFrGyyaVHJ",
        "outputId": "7167b613-4783-45b6-e3f6-bc8820c5cebb"
      },
      "execution_count": 76,
      "outputs": [
        {
          "output_type": "stream",
          "name": "stdout",
          "text": [
            "Epoch: 10 | Loss: 0.43007802963256836 | Test Loss: 0.3984473943710327\n",
            "==================================================\n",
            "Epoch: 20 | Loss: 0.2910781800746918 | Test Loss: 0.20944757759571075\n",
            "==================================================\n",
            "Epoch: 30 | Loss: 0.152078315615654 | Test Loss: 0.02059648558497429\n",
            "==================================================\n",
            "Epoch: 40 | Loss: 0.06501899659633636 | Test Loss: 0.14846496284008026\n",
            "==================================================\n",
            "Epoch: 50 | Loss: 0.06992020457983017 | Test Loss: 0.19639885425567627\n",
            "==================================================\n",
            "Epoch: 60 | Loss: 0.057294946163892746 | Test Loss: 0.14887471497058868\n",
            "==================================================\n",
            "Epoch: 70 | Loss: 0.04528895765542984 | Test Loss: 0.08643670380115509\n",
            "==================================================\n",
            "Epoch: 80 | Loss: 0.03684772923588753 | Test Loss: 0.06523077189922333\n",
            "==================================================\n",
            "Epoch: 90 | Loss: 0.026546627283096313 | Test Loss: 0.06106187775731087\n",
            "==================================================\n",
            "Epoch: 100 | Loss: 0.016099631786346436 | Test Loss: 0.032397132366895676\n",
            "==================================================\n",
            "Epoch: 110 | Loss: 0.005318976938724518 | Test Loss: 0.010745054110884666\n",
            "==================================================\n",
            "Epoch: 120 | Loss: 0.0035390376579016447 | Test Loss: 0.009591621346771717\n",
            "==================================================\n",
            "Epoch: 130 | Loss: 0.0008563116425648332 | Test Loss: 0.0003226459084544331\n",
            "==================================================\n",
            "Epoch: 140 | Loss: 0.001107479678466916 | Test Loss: 0.0026448846329003572\n",
            "==================================================\n",
            "Epoch: 150 | Loss: 0.0011099077528342605 | Test Loss: 0.001191812800243497\n",
            "==================================================\n"
          ]
        }
      ]
    },
    {
      "cell_type": "code",
      "source": [
        "model_1.state_dict()"
      ],
      "metadata": {
        "colab": {
          "base_uri": "https://localhost:8080/"
        },
        "id": "YnaWtEBcb1Ql",
        "outputId": "2d3ac92d-2d57-4467-ad9d-683a4ab69a2d"
      },
      "execution_count": 77,
      "outputs": [
        {
          "output_type": "execute_result",
          "data": {
            "text/plain": [
              "OrderedDict([('linear_layer.weight', tensor([[0.7030]])),\n",
              "             ('linear_layer.bias', tensor([0.2985]))])"
            ]
          },
          "metadata": {},
          "execution_count": 77
        }
      ]
    },
    {
      "cell_type": "code",
      "source": [
        "with torch.inference_mode():\n",
        "    preds = model_1(X_test)\n",
        "\n",
        "plot_predictions(predictions=preds)"
      ],
      "metadata": {
        "colab": {
          "base_uri": "https://localhost:8080/",
          "height": 599
        },
        "id": "VJHx1yWab6AP",
        "outputId": "75dccc98-f7c2-4ddf-89d4-f145d7a92616"
      },
      "execution_count": 78,
      "outputs": [
        {
          "output_type": "display_data",
          "data": {
            "text/plain": [
              "<Figure size 1000x700 with 1 Axes>"
            ],
            "image/png": "[encoded data removed]"
          },
          "metadata": {}
        }
      ]
    },
    {
      "cell_type": "code",
      "source": [
        "# Saving the model\n",
        "\n",
        "MODEL_NAME = \"01_pytorch_workflow_model_2.pt\"\n",
        "MODEL_SAVE_PATH = MODEL_PATH / MODEL_NAME\n",
        "\n",
        "torch.save(obj=model_1.state_dict(),\n",
        "           f=MODEL_SAVE_PATH)"
      ],
      "metadata": {
        "id": "aaOnOfyMcCLJ"
      },
      "execution_count": 79,
      "outputs": []
    }
  ]
}